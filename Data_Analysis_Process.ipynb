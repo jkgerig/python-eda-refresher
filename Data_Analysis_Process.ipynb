{
 "cells": [
  {
   "cell_type": "markdown",
   "metadata": {},
   "source": [
    "# Data Analysis\n",
    "*Reference Notebook for Data Analysis in Python*"
   ]
  },
  {
   "cell_type": "markdown",
   "metadata": {},
   "source": [
    "## Package Imports"
   ]
  },
  {
   "cell_type": "code",
   "execution_count": null,
   "metadata": {},
   "outputs": [],
   "source": [
    "import numpy as np\n",
    "import pandas as pd\n",
    "import seaborn as sns\n",
    "import matplotlib.pyplot as plt"
   ]
  },
  {
   "cell_type": "markdown",
   "metadata": {},
   "source": [
    "## Python Basics Review\n",
    "\n",
    "- Lists\n",
    "- Dicts\n",
    "- Date/Time\n",
    "- Functions\n",
    "- Lambda Functions"
   ]
  },
  {
   "cell_type": "markdown",
   "metadata": {},
   "source": [
    "## Data Wrangling"
   ]
  },
  {
   "cell_type": "markdown",
   "metadata": {},
   "source": [
    "### Data Sources\n",
    "\n",
    "- CSV\n",
    "- Excel\n",
    "- JSON\n",
    "- Database (SQL)\n",
    "- Database (NoSQL)\n",
    "- Web (HTML)\n",
    "- API"
   ]
  },
  {
   "cell_type": "markdown",
   "metadata": {},
   "source": [
    "### Data Cleaning\n",
    "\n",
    "- Column DataTypes\n",
    "- Missing Values\n",
    "- Replacing Values\n",
    "- Duplicate Values\n",
    "- Categorical Variabes\n",
    "- Unit Conversion"
   ]
  },
  {
   "cell_type": "markdown",
   "metadata": {},
   "source": [
    "### Data Manipulation\n",
    "\n",
    "- Merging DataFrames\n",
    "- Indexes\n",
    "- Grouping\n",
    "- Pivoting\n",
    "- Melting\n",
    "- Stacking\n",
    "- Unstacking\n",
    "- Filtering"
   ]
  },
  {
   "cell_type": "markdown",
   "metadata": {},
   "source": [
    "## Data Visualization\n",
    "\n",
    "- Pseudocolor Plots\n",
    "- Scatterplots\n",
    "- Distributions/Regressions\n",
    "- ECDF\n",
    "- Bar Plot\n",
    "- Histogram\n",
    "- Time-series Plot"
   ]
  },
  {
   "cell_type": "markdown",
   "metadata": {},
   "source": [
    "## Inferential Statistics\n",
    "\n",
    "- Summary Statistics (Mean, Median, Mode)\n",
    "- Percentiles, outliers\n",
    "- Variance, standard deviation\n",
    "- Covariance, Pearson Correlation Coefficient\n",
    "- Binomial Distribution\n",
    "- Poisson Distribution\n",
    "- PDF\n",
    "- CDF\n",
    "- Linear Regression\n",
    "- Confidence Intervals\n",
    "- Hypothesis Testing\n",
    "- Statistical Power"
   ]
  }
 ],
 "metadata": {
  "kernelspec": {
   "display_name": "Python 3",
   "language": "python",
   "name": "python3"
  },
  "language_info": {
   "codemirror_mode": {
    "name": "ipython",
    "version": 3
   },
   "file_extension": ".py",
   "mimetype": "text/x-python",
   "name": "python",
   "nbconvert_exporter": "python",
   "pygments_lexer": "ipython3",
   "version": "3.8.5"
  }
 },
 "nbformat": 4,
 "nbformat_minor": 4
}
