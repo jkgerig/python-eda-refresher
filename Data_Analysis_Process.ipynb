{
 "cells": [
  {
   "cell_type": "markdown",
   "metadata": {},
   "source": [
    "# Data Analysis\n",
    "*Reference Notebook for Data Analysis in Python*"
   ]
  },
  {
   "cell_type": "markdown",
   "metadata": {},
   "source": [
    "## Package Imports"
   ]
  },
  {
   "cell_type": "code",
   "execution_count": null,
   "metadata": {},
   "outputs": [],
   "source": [
    "import numpy as np\n",
    "import pandas as pd\n",
    "import seaborn as sns\n",
    "import matplotlib.pyplot as plt"
   ]
  },
  {
   "cell_type": "markdown",
   "metadata": {},
   "source": [
    "## Python Basics Review\n",
    "\n",
    "- Strings\n",
    "- Lists\n",
    "- Dicts\n",
    "- Date/Time\n",
    "- Control Structures\n",
    "- Functions\n",
    "- Lambda Functions\n",
    "- Classes"
   ]
  },
  {
   "cell_type": "markdown",
   "metadata": {},
   "source": [
    "### Strings"
   ]
  },
  {
   "cell_type": "code",
   "execution_count": 49,
   "metadata": {},
   "outputs": [
    {
     "name": "stdout",
     "output_type": "stream",
     "text": [
      "This string is my string, it is not your string, and it has commas, so deal with it.\n"
     ]
    }
   ],
   "source": [
    "# strings\n",
    "my_string = 'This string is my string, it is not your string, and it has commas, so deal with it.'\n",
    "print(my_string)"
   ]
  },
  {
   "cell_type": "code",
   "execution_count": 50,
   "metadata": {},
   "outputs": [
    {
     "name": "stdout",
     "output_type": "stream",
     "text": [
      "This string is my string, it is not your string, and it has commas, so deal with it.This string is my string, it is not your string, and it has commas, so deal with it.\n"
     ]
    }
   ],
   "source": [
    "# Repeat\n",
    "print(my_string * 2)"
   ]
  },
  {
   "cell_type": "code",
   "execution_count": 51,
   "metadata": {},
   "outputs": [
    {
     "name": "stdout",
     "output_type": "stream",
     "text": [
      "Is 'A' in my_string? False\n",
      "Is 'is' in my_string? True\n"
     ]
    }
   ],
   "source": [
    "# Test for presence of substring\n",
    "my_string_test_A = 'A' in my_string\n",
    "my_string_test_i = 'is' in my_string\n",
    "\n",
    "# Conversion\n",
    "print('Is \\'A\\' in my_string? ' + str(my_string_test_A))\n",
    "print('Is \\'is\\' in my_string? ' + str(my_string_test_i))"
   ]
  },
  {
   "cell_type": "code",
   "execution_count": 52,
   "metadata": {},
   "outputs": [
    {
     "name": "stdout",
     "output_type": "stream",
     "text": [
      "This string is my string, it is not your string, and it has commas, so deal with it. Not anymore!\n"
     ]
    }
   ],
   "source": [
    "# Concatenation\n",
    "your_string = my_string + ' Not anymore!'\n",
    "print(your_string)"
   ]
  },
  {
   "cell_type": "code",
   "execution_count": 53,
   "metadata": {},
   "outputs": [
    {
     "name": "stdout",
     "output_type": "stream",
     "text": [
      "T\n",
      "This string is my string\n"
     ]
    }
   ],
   "source": [
    "# Zero-indexed (for slicing)\n",
    "print(my_string[0])\n",
    "short_string = my_string[:24]\n",
    "print(short_string)"
   ]
  },
  {
   "cell_type": "code",
   "execution_count": 54,
   "metadata": {},
   "outputs": [
    {
     "name": "stdout",
     "output_type": "stream",
     "text": [
      "THIS STRING IS MY STRING\n",
      "this string is my string\n",
      "4\n",
      "Thus strung us my strung\n"
     ]
    }
   ],
   "source": [
    "# Various functions\n",
    "print(short_string.upper())\n",
    "print(short_string.lower())\n",
    "print(short_string.count('i'))\n",
    "print(short_string.replace('i', 'u'))"
   ]
  },
  {
   "cell_type": "code",
   "execution_count": 55,
   "metadata": {},
   "outputs": [
    {
     "name": "stdout",
     "output_type": "stream",
     "text": [
      "I can insert variables into strings.\n"
     ]
    }
   ],
   "source": [
    "# Formatting with variables\n",
    "my_var = 'variables'\n",
    "print('I can insert {} into strings.'.format(my_var))"
   ]
  },
  {
   "cell_type": "markdown",
   "metadata": {},
   "source": [
    "### Lists"
   ]
  },
  {
   "cell_type": "code",
   "execution_count": 90,
   "metadata": {},
   "outputs": [
    {
     "name": "stdout",
     "output_type": "stream",
     "text": [
      "['val', 'bob', 'mia', 'ron', 'ned']\n"
     ]
    }
   ],
   "source": [
    "# lists\n",
    "users = ['val', 'bob', 'mia', 'ron', 'ned']\n",
    "print(users)"
   ]
  },
  {
   "cell_type": "code",
   "execution_count": 92,
   "metadata": {},
   "outputs": [
    {
     "name": "stdout",
     "output_type": "stream",
     "text": [
      "val\n",
      "bob\n",
      "ned\n",
      "['val', 'bob', 'mia']\n",
      "['bob', 'mia', 'ron']\n",
      "['mia', 'ron', 'ned']\n"
     ]
    }
   ],
   "source": [
    "# Get first element\n",
    "first_user = users[0]\n",
    "print(first_user)\n",
    "\n",
    "# Get second element\n",
    "second_user = users[1]\n",
    "print(second_user)\n",
    "\n",
    "# Get last element\n",
    "last_user = users[-1]\n",
    "print(last_user)\n",
    "\n",
    "# First three\n",
    "print(users[:3])\n",
    "\n",
    "# Middle three\n",
    "print(users[1:4])\n",
    "\n",
    "# Last three\n",
    "print(users[-3:])"
   ]
  },
  {
   "cell_type": "code",
   "execution_count": 70,
   "metadata": {},
   "outputs": [
    {
     "name": "stdout",
     "output_type": "stream",
     "text": [
      "['valerie', 'bob', 'mia', 'ronald', 'ned']\n"
     ]
    }
   ],
   "source": [
    "# Modify\n",
    "users[0] = 'valerie'\n",
    "users[-2] = 'ronald'\n",
    "print(users)"
   ]
  },
  {
   "cell_type": "code",
   "execution_count": 71,
   "metadata": {},
   "outputs": [
    {
     "name": "stdout",
     "output_type": "stream",
     "text": [
      "['valerie', 'bob', 'mia', 'ronald', 'ned', 'amy']\n"
     ]
    }
   ],
   "source": [
    "# Append\n",
    "users.append('amy')\n",
    "print(users)"
   ]
  },
  {
   "cell_type": "code",
   "execution_count": 72,
   "metadata": {},
   "outputs": [
    {
     "name": "stdout",
     "output_type": "stream",
     "text": [
      "['joe', 'valerie', 'bob', 'bea', 'mia', 'ronald', 'ned', 'amy']\n"
     ]
    }
   ],
   "source": [
    "# Insert\n",
    "users.insert(0, 'joe')\n",
    "users.insert(3, 'bea')\n",
    "print(users)"
   ]
  },
  {
   "cell_type": "code",
   "execution_count": 73,
   "metadata": {},
   "outputs": [
    {
     "name": "stdout",
     "output_type": "stream",
     "text": [
      "['joe', 'valerie', 'bob', 'bea', 'mia', 'ronald', 'ned']\n",
      "['joe', 'valerie', 'bob', 'bea', 'ronald', 'ned']\n"
     ]
    }
   ],
   "source": [
    "# Delete (by position)\n",
    "del users[-1]\n",
    "print(users)\n",
    "\n",
    "# Delete (by value)\n",
    "users.remove('mia')\n",
    "print(users)"
   ]
  },
  {
   "cell_type": "code",
   "execution_count": 74,
   "metadata": {},
   "outputs": [
    {
     "name": "stdout",
     "output_type": "stream",
     "text": [
      "ned\n",
      "joe\n"
     ]
    }
   ],
   "source": [
    "# Popping\n",
    "most_recent_user = users.pop()\n",
    "print(most_recent_user)\n",
    "\n",
    "first_user = users.pop(0)\n",
    "print(first_user)"
   ]
  },
  {
   "cell_type": "code",
   "execution_count": 76,
   "metadata": {},
   "outputs": [
    {
     "name": "stdout",
     "output_type": "stream",
     "text": [
      "['valerie', 'bob', 'bea', 'ronald']\n",
      "There are 4 total users.\n"
     ]
    }
   ],
   "source": [
    "# Length\n",
    "num_users = len(users)\n",
    "print(users)\n",
    "print('There are {} total users.'.format(num_users))"
   ]
  },
  {
   "cell_type": "code",
   "execution_count": 80,
   "metadata": {},
   "outputs": [
    {
     "name": "stdout",
     "output_type": "stream",
     "text": [
      "['valerie', 'ronald', 'bob', 'bea']\n",
      "['bea', 'bob', 'ronald', 'valerie']\n",
      "['valerie', 'ronald', 'bob', 'bea']\n",
      "['bea', 'bob', 'ronald', 'valerie']\n",
      "['bea', 'bob', 'ronald', 'valerie']\n"
     ]
    }
   ],
   "source": [
    "# Sorting - modifying list\n",
    "print(users)\n",
    "users.sort()\n",
    "print(users)\n",
    "users.sort(reverse=True)\n",
    "print(users)\n",
    "\n",
    "# Sorting - copying list\n",
    "print(sorted(users))\n",
    "\n",
    "# Reverse\n",
    "users.reverse()\n",
    "print(users)"
   ]
  },
  {
   "cell_type": "code",
   "execution_count": 81,
   "metadata": {},
   "outputs": [
    {
     "name": "stdout",
     "output_type": "stream",
     "text": [
      "bea\n",
      "bob\n",
      "ronald\n",
      "valerie\n"
     ]
    }
   ],
   "source": [
    "# Looping\n",
    "for user in users:\n",
    "    print(user)"
   ]
  },
  {
   "cell_type": "code",
   "execution_count": 87,
   "metadata": {},
   "outputs": [
    {
     "name": "stdout",
     "output_type": "stream",
     "text": [
      "0\n",
      "1\n",
      "2\n",
      "3\n",
      "4\n",
      "\n",
      "1\n",
      "2\n",
      "3\n",
      "4\n",
      "5\n",
      "\n",
      "[1, 2, 3, 4, 5, 6, 7, 8, 9, 10]\n"
     ]
    }
   ],
   "source": [
    "# Range\n",
    "for number in range(5):\n",
    "    print(number)\n",
    "\n",
    "print()    \n",
    "\n",
    "for number in range(1, 6):\n",
    "    print(number)\n",
    "    \n",
    "print()    \n",
    "\n",
    "numbers = list(range(1, 11))\n",
    "print(numbers)"
   ]
  },
  {
   "cell_type": "code",
   "execution_count": 94,
   "metadata": {},
   "outputs": [
    {
     "name": "stdout",
     "output_type": "stream",
     "text": [
      "[1, 4, 9, 16, 25, 36, 49, 64, 81, 100]\n",
      "['kai', 'abe', 'ada', 'gus', 'zoe']\n",
      "['KAI', 'ABE', 'ADA', 'GUS', 'ZOE']\n"
     ]
    }
   ],
   "source": [
    "# Comprehensions\n",
    "squares = [x**2 for x in range(1, 11)]\n",
    "print(squares)\n",
    "\n",
    "names = ['kai', 'abe', 'ada', 'gus', 'zoe']\n",
    "upper_names = [name.upper() for name in names]\n",
    "\n",
    "print(names)\n",
    "print(upper_names)"
   ]
  },
  {
   "cell_type": "code",
   "execution_count": 66,
   "metadata": {},
   "outputs": [
    {
     "name": "stdout",
     "output_type": "stream",
     "text": [
      "bikes: ['trek', 'redline', 'giant']\n",
      "also_bikes: ['trek', 'redline', 'giant']\n",
      "new_bikes: ['trek', 'redline', 'giant']\n",
      "copy_bikes: ['trek', 'redline', 'giant']\n",
      "bikes: ['trek', 'redline', 'giant', 'bmx']\n",
      "also_bikes: ['trek', 'redline', 'giant', 'bmx']\n",
      "new_bikes: ['trek', 'redline', 'giant']\n",
      "copy_bikes: ['trek', 'redline', 'giant']\n"
     ]
    }
   ],
   "source": [
    "# Copying\n",
    "bikes = ['trek', 'redline', 'giant']\n",
    "\n",
    "# NOT a copy - points to same object in memory\n",
    "also_bikes = bikes\n",
    "\n",
    "# Copies (point to new objects in memory)\n",
    "new_bikes = bikes[:]\n",
    "copy_bikes = bikes.copy() # Python 3\n",
    "\n",
    "print('bikes: ' + str(bikes))\n",
    "print('also_bikes: ' + str(also_bikes))\n",
    "print('new_bikes: ' + str(new_bikes))\n",
    "print('copy_bikes: ' + str(copy_bikes))\n",
    "\n",
    "also_bikes.append('bmx')\n",
    "print('bikes: ' + str(bikes))\n",
    "print('also_bikes: ' + str(also_bikes))\n",
    "print('new_bikes: ' + str(new_bikes))\n",
    "print('copy_bikes: ' + str(copy_bikes))"
   ]
  },
  {
   "cell_type": "markdown",
   "metadata": {},
   "source": [
    "## Data Wrangling"
   ]
  },
  {
   "cell_type": "markdown",
   "metadata": {},
   "source": [
    "### Data Sources\n",
    "\n",
    "- CSV\n",
    "- Excel\n",
    "- JSON\n",
    "- Database (SQL)\n",
    "- Database (NoSQL)\n",
    "- Web (HTML)\n",
    "- API"
   ]
  },
  {
   "cell_type": "markdown",
   "metadata": {},
   "source": [
    "### Data Cleaning\n",
    "\n",
    "- Column DataTypes\n",
    "- Missing Values\n",
    "- Replacing Values\n",
    "- Duplicate Values\n",
    "- Categorical Variabes\n",
    "- Unit Conversion"
   ]
  },
  {
   "cell_type": "markdown",
   "metadata": {},
   "source": [
    "### Data Manipulation\n",
    "\n",
    "- Merging DataFrames\n",
    "- Indexes\n",
    "- Grouping\n",
    "- Pivoting\n",
    "- Melting\n",
    "- Stacking\n",
    "- Unstacking\n",
    "- Filtering"
   ]
  },
  {
   "cell_type": "markdown",
   "metadata": {},
   "source": [
    "## Data Visualization\n",
    "\n",
    "- Pseudocolor Plots\n",
    "- Scatterplots\n",
    "- Distributions/Regressions\n",
    "- ECDF\n",
    "- Bar Plot\n",
    "- Histogram\n",
    "- Time-series Plot"
   ]
  },
  {
   "cell_type": "markdown",
   "metadata": {},
   "source": [
    "## Inferential Statistics\n",
    "\n",
    "- Summary Statistics (Mean, Median, Mode)\n",
    "- Percentiles, outliers\n",
    "- Variance, standard deviation\n",
    "- Covariance, Pearson Correlation Coefficient\n",
    "- Binomial Distribution\n",
    "- Poisson Distribution\n",
    "- PDF\n",
    "- CDF\n",
    "- Linear Regression\n",
    "- Confidence Intervals\n",
    "- Hypothesis Testing\n",
    "- Statistical Power"
   ]
  }
 ],
 "metadata": {
  "kernelspec": {
   "display_name": "Python 3",
   "language": "python",
   "name": "python3"
  },
  "language_info": {
   "codemirror_mode": {
    "name": "ipython",
    "version": 3
   },
   "file_extension": ".py",
   "mimetype": "text/x-python",
   "name": "python",
   "nbconvert_exporter": "python",
   "pygments_lexer": "ipython3",
   "version": "3.8.5"
  }
 },
 "nbformat": 4,
 "nbformat_minor": 4
}
